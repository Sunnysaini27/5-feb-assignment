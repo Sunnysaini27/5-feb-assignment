{
 "cells": [
  {
   "cell_type": "code",
   "execution_count": 24,
   "id": "d9f4a381-80e5-45ff-816f-1e241dba15de",
   "metadata": {},
   "outputs": [],
   "source": [
    "1#\n",
    "'''Class is a detailed description, the definition, and the template of what an object will be.But it is not the object itself.Also,\n",
    "A class is the building block that leads to Object-Oriented Programming.It is a user-defined data type, that holds its own data\n",
    "members and member functions,which can be accessed and used by creating an instance of that class. It is the blueprint of any\n",
    "object. Once we have written a class and defined it, we can use it to create as many objects based on that class as we want.'''\n",
    "\n",
    "'''Object is an instance of a class. All data members and member functions of the class can be accessed with the help of objects.\n",
    "When a class is defined, no memory is allocated, but memory is allocated when object is created.'''\n",
    "\n",
    "'example'\n",
    "class pwskills2:                           #class\n",
    "    def __init__(self,phone_number, email_id):          \n",
    "        self.phone_number1 = phone_number                         \n",
    "        self.email_id1 = email_id\n",
    "    \n",
    "    def return_stuedent_details(self):\n",
    "        return self.phone_number1, self.email_id1 \n"
   ]
  },
  {
   "cell_type": "code",
   "execution_count": 25,
   "id": "39cb0176-7bee-4fd2-a2b9-51d537001080",
   "metadata": {},
   "outputs": [],
   "source": [
    "dahiya = pwskills2(123547859,\"dahiya@gmail.com\")               #object"
   ]
  },
  {
   "cell_type": "code",
   "execution_count": 26,
   "id": "cdd5c999-b990-4e16-9d47-a648f37dbe0e",
   "metadata": {},
   "outputs": [
    {
     "data": {
      "text/plain": [
       "123547859"
      ]
     },
     "execution_count": 26,
     "metadata": {},
     "output_type": "execute_result"
    }
   ],
   "source": [
    "dahiya.phone_number1"
   ]
  },
  {
   "cell_type": "code",
   "execution_count": 28,
   "id": "067230a0-9590-4fa5-b4ff-1a74692b6be5",
   "metadata": {},
   "outputs": [],
   "source": [
    "#2\n",
    "# Abstraction Encapsulation Inheritance Polymorphism"
   ]
  },
  {
   "cell_type": "code",
   "execution_count": 29,
   "id": "c4e3e0be-d7e5-4faf-a8b9-b58b6d88c960",
   "metadata": {},
   "outputs": [],
   "source": [
    "#3\n",
    "'''All classes have a function called __init__(), which is always executed when the class is being initiated. Use the\n",
    "   __init__() function to assign values to object properties, or other operations that are necessary to do when the \n",
    "   object is being created'''\n",
    "\n",
    "class pwskills2:                         \n",
    "    def __init__(self,phone_number, email_id):          \n",
    "        self.phone_number1 = phone_number                         \n",
    "        self.email_id1 = email_id\n",
    "    \n",
    "    def return_stuedent_details(self):\n",
    "        return self.phone_number1, self.email_id1\n"
   ]
  },
  {
   "cell_type": "code",
   "execution_count": 30,
   "id": "6a878ba8-c27b-4527-a863-d5f47a03a3b7",
   "metadata": {},
   "outputs": [
    {
     "data": {
      "text/plain": [
       "'self represents the instance of the class. By using the “self”  we can access the attributes and methods of the\\nclass in python. It binds the attributes with the given arguments.'"
      ]
     },
     "execution_count": 30,
     "metadata": {},
     "output_type": "execute_result"
    }
   ],
   "source": [
    "#4\n",
    "'''self represents the instance of the class. By using the “self”  we can access the attributes and methods of the\n",
    "class in python. It binds the attributes with the given arguments.'''\n",
    "\n"
   ]
  },
  {
   "cell_type": "code",
   "execution_count": 31,
   "id": "69e90955-20d0-4fc3-8384-de56facfffbf",
   "metadata": {},
   "outputs": [],
   "source": [
    "#5\n",
    "'''One of the core concepts in object-oriented programming (OOP) languages is inheritance. It is a mechanism that allows\n",
    "   you to create a hierarchy of classes that share a set of properties and methods by deriving a class from another \n",
    "   class. Inheritance is the capability of one class to derive or inherit the properties from another class.'''\n",
    "\n",
    "#Single inheritance\n",
    "class test:\n",
    "    def test_meth(self):\n",
    "        return \"this is my first class\""
   ]
  },
  {
   "cell_type": "code",
   "execution_count": 32,
   "id": "d9cdf6bc-51d3-4dc7-afcf-14ca3f952b8e",
   "metadata": {},
   "outputs": [],
   "source": [
    "class child_test(test):\n",
    "    pass"
   ]
  },
  {
   "cell_type": "code",
   "execution_count": 33,
   "id": "fa73a996-302b-4844-adeb-0a8c70d9db47",
   "metadata": {},
   "outputs": [],
   "source": [
    "child_test_obj = child_test()"
   ]
  },
  {
   "cell_type": "code",
   "execution_count": 34,
   "id": "2b9a0b3b-3568-4411-9d52-b9c01425f03a",
   "metadata": {},
   "outputs": [
    {
     "data": {
      "text/plain": [
       "'this is my first class'"
      ]
     },
     "execution_count": 34,
     "metadata": {},
     "output_type": "execute_result"
    }
   ],
   "source": [
    "child_test_obj.test_meth()"
   ]
  },
  {
   "cell_type": "code",
   "execution_count": 35,
   "id": "59596d0e-9832-4007-94b5-af6d0ade0b6b",
   "metadata": {},
   "outputs": [],
   "source": [
    "#Multiple Inheritance"
   ]
  },
  {
   "cell_type": "code",
   "execution_count": 36,
   "id": "d73aac85-e89e-41d5-9707-7f10593533d0",
   "metadata": {},
   "outputs": [],
   "source": [
    "class class1:\n",
    "    def test_class1(self):\n",
    "        return\"this is the class1\""
   ]
  },
  {
   "cell_type": "code",
   "execution_count": 37,
   "id": "5f8572c0-807d-49d1-8c6f-7f1d984603a6",
   "metadata": {},
   "outputs": [],
   "source": [
    "class class2:\n",
    "    def test_class2(self):\n",
    "        return\"this is the class2\""
   ]
  },
  {
   "cell_type": "code",
   "execution_count": 38,
   "id": "9ccbea47-cb13-43ac-a913-5870f7f7e4f5",
   "metadata": {},
   "outputs": [],
   "source": [
    "class class3(class1,class2):\n",
    "    pass"
   ]
  },
  {
   "cell_type": "code",
   "execution_count": 39,
   "id": "6c13bbf7-caab-427b-8eaa-608dece8e206",
   "metadata": {},
   "outputs": [],
   "source": [
    "obj_class3 = class3()"
   ]
  },
  {
   "cell_type": "code",
   "execution_count": 40,
   "id": "7721dd23-d95f-4272-a556-9fd8a78e303e",
   "metadata": {},
   "outputs": [
    {
     "data": {
      "text/plain": [
       "'this is the class1'"
      ]
     },
     "execution_count": 40,
     "metadata": {},
     "output_type": "execute_result"
    }
   ],
   "source": [
    "obj_class3.test_class1()"
   ]
  },
  {
   "cell_type": "code",
   "execution_count": 41,
   "id": "b37e66cb-51cf-453c-98ff-840690f22831",
   "metadata": {},
   "outputs": [
    {
     "data": {
      "text/plain": [
       "'this is the class2'"
      ]
     },
     "execution_count": 41,
     "metadata": {},
     "output_type": "execute_result"
    }
   ],
   "source": [
    "obj_class3.test_class2()"
   ]
  },
  {
   "cell_type": "code",
   "execution_count": 42,
   "id": "c01a834d-ac48-4e0b-87a2-1d97f3a9e00a",
   "metadata": {},
   "outputs": [],
   "source": [
    "#Multilevel Inheritance"
   ]
  },
  {
   "cell_type": "code",
   "execution_count": 43,
   "id": "d4193d04-5775-488d-9bfe-e30a186eaf9b",
   "metadata": {},
   "outputs": [],
   "source": [
    "class class1:\n",
    "    def test_class1(self):\n",
    "        return \"this is the method from class1\""
   ]
  },
  {
   "cell_type": "code",
   "execution_count": 44,
   "id": "d7c63376-b38a-45de-883f-56424a163e18",
   "metadata": {},
   "outputs": [],
   "source": [
    "class class2(class1):\n",
    "    def test_class2(self):\n",
    "        return \"this is the method from class two\""
   ]
  },
  {
   "cell_type": "code",
   "execution_count": 45,
   "id": "da713312-d135-41d3-81a8-47528d114a56",
   "metadata": {},
   "outputs": [],
   "source": [
    "class class3(class2):\n",
    "    pass"
   ]
  },
  {
   "cell_type": "code",
   "execution_count": 46,
   "id": "43a467f2-fcff-4b02-8128-f04d887277ac",
   "metadata": {},
   "outputs": [],
   "source": [
    "obj_class3 = class3()"
   ]
  },
  {
   "cell_type": "code",
   "execution_count": 47,
   "id": "65b69144-4dd1-4a7b-9440-5b9fe2f84098",
   "metadata": {},
   "outputs": [
    {
     "data": {
      "text/plain": [
       "'this is the method from class two'"
      ]
     },
     "execution_count": 47,
     "metadata": {},
     "output_type": "execute_result"
    }
   ],
   "source": [
    "obj_class3.test_class2()"
   ]
  },
  {
   "cell_type": "code",
   "execution_count": 48,
   "id": "5a0f2bee-471c-488b-89ec-58a13aae9fe6",
   "metadata": {},
   "outputs": [
    {
     "data": {
      "text/plain": [
       "'this is the method from class1'"
      ]
     },
     "execution_count": 48,
     "metadata": {},
     "output_type": "execute_result"
    }
   ],
   "source": [
    "obj_class3.test_class1()"
   ]
  },
  {
   "cell_type": "code",
   "execution_count": null,
   "id": "f7c97509-3206-4d2b-91db-eb41c966eb9f",
   "metadata": {},
   "outputs": [],
   "source": []
  },
  {
   "cell_type": "code",
   "execution_count": null,
   "id": "047a4de5-f5f6-44e2-b4ed-5b88261de829",
   "metadata": {},
   "outputs": [],
   "source": []
  }
 ],
 "metadata": {
  "kernelspec": {
   "display_name": "Python 3 (ipykernel)",
   "language": "python",
   "name": "python3"
  },
  "language_info": {
   "codemirror_mode": {
    "name": "ipython",
    "version": 3
   },
   "file_extension": ".py",
   "mimetype": "text/x-python",
   "name": "python",
   "nbconvert_exporter": "python",
   "pygments_lexer": "ipython3",
   "version": "3.10.6"
  }
 },
 "nbformat": 4,
 "nbformat_minor": 5
}
